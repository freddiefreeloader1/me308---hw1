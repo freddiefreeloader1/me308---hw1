{
 "cells": [
  {
   "cell_type": "code",
   "execution_count": 18,
   "id": "b530c46e",
   "metadata": {
    "scrolled": false
   },
   "outputs": [
    {
     "name": "stdout",
     "output_type": "stream",
     "text": [
      "please assume a tempature difference:13\n",
      "please enter the clearance value as meters: 0.00013\n",
      "l/d ratio is: 0.5\n",
      "pressure is: 888888.8888888889 Pa\n",
      "assumed T average is: 36.5 \n",
      "viscosity is: 0.06880276463596635 Pa s \n",
      "Sommerfeld number is: 0.2576286952437719\n",
      "please find the eccentricity ratio from 12.16 and enter here: 0.64\n",
      "please find the fr/c value from the charts and enter here:6\n",
      "deltaT coming from the equation is : 11.838266925594223\n",
      "T average coming from the equation is: 35.91913346279711\n",
      "\n",
      "\n",
      "your assumption is correct\n",
      "\n",
      "max tempature is: 41.838266925594226\n",
      "\n",
      "eccentricity ratio is 0.64\n",
      "h0 value should be taken from corresponding graph\n"
     ]
    }
   ],
   "source": [
    "from math import e \n",
    "\n",
    "deltaT = float(input(\"please assume a tempature difference:\"))                     # assumed tempature difference \n",
    "c = float(input(\"please enter the clearance value as meters: \"))\n",
    "\n",
    "\n",
    "D = 0.075                          # meter\n",
    "l = 0.080                          # meter\n",
    "Ti = 30                            # centigrade degrees\n",
    "r = D/2\n",
    "supplyP = 1000*1000                # Pa\n",
    "N = 40                             # rps \n",
    "load = 5000                        # N\n",
    "groove = 0.005                     # m\n",
    "lcorrected = (l - groove)/2   \n",
    "ldratio = lcorrected/D\n",
    "P = load/(4*lcorrected*r)          # Pa\n",
    "rcvalue = r/c\n",
    "          \n",
    "print(\"l/d ratio is:\" , ldratio)\n",
    "print(\"pressure is:\", P , \"Pa\")\n",
    " \n",
    "Tav = Ti + (deltaT/2)                                           # calculating assumed average tempature from the correlation\n",
    "mu = (0.093704)*(e**(1271.6/(1.8 * Tav + 127)))*10**(-3)        # in Pa s\n",
    "sommerfeld = (rcvalue**2)*mu*N/P                                # calculating the sommerfeld number\n",
    "print(\"assumed T average is:\", Tav,\"\\nviscosity is:\",mu,\"Pa s\",\"\\nSommerfeld number is:\",sommerfeld)\n",
    "\n",
    "ecc = float(input(\"please find the eccentricity ratio from 12.16 and enter here: \"))     # from the table 12.16 ecc ratio is taken\n",
    "frcratio = float(input(\"please find the fr/c value from the charts and enter here:\"))    # from the table 12.18 fr/c ratio is taken\n",
    "\n",
    "findelT = 978*(10**(6))*frcratio*((load/1000)**2)*sommerfeld/(((r*1000)**4)*(supplyP/1000)*(1.5*ecc**2 + 1)) # this equation for...\n",
    "\n",
    "                                                                    # the pressure fed bearings is used to determine the delta T\n",
    "print(\"deltaT coming from the equation is :\" , findelT)\n",
    "fintav = Ti + findelT/2                                                            # calculating the final T average value\n",
    "print(\"T average coming from the equation is:\" , fintav)\n",
    "\n",
    "if abs(fintav - Tav < 0.1):                                         # if the difference between them is smaller then 0.1\n",
    "    print(\"\\n\\nyour assumption is correct\")                         # then the program is successful\n",
    "    Tmax = 2 * fintav - Ti\n",
    "    print(\"\\nmax tempature is:\", Tmax)\n",
    "    print(\"\\neccentricity ratio is\", ecc)\n",
    "    print(\"h0 value should be taken from corresponding graph\")\n",
    "else:\n",
    "    print(\"restart the program and enter a new value for tempature difference\")\n",
    "    "
   ]
  },
  {
   "cell_type": "code",
   "execution_count": null,
   "id": "132ae211",
   "metadata": {},
   "outputs": [],
   "source": []
  }
 ],
 "metadata": {
  "kernelspec": {
   "display_name": "Python 3 (ipykernel)",
   "language": "python",
   "name": "python3"
  },
  "language_info": {
   "codemirror_mode": {
    "name": "ipython",
    "version": 3
   },
   "file_extension": ".py",
   "mimetype": "text/x-python",
   "name": "python",
   "nbconvert_exporter": "python",
   "pygments_lexer": "ipython3",
   "version": "3.9.7"
  }
 },
 "nbformat": 4,
 "nbformat_minor": 5
}
