{
 "cells": [
  {
   "cell_type": "code",
   "execution_count": 4,
   "id": "b530c46e",
   "metadata": {
    "scrolled": true
   },
   "outputs": [
    {
     "name": "stdout",
     "output_type": "stream",
     "text": [
      "please assume a tempature difference:26.5\n",
      "please enter the clearance value as meters: 0.000025\n",
      "l/d ratio is: 0.5\n",
      "pressure is: 888888.8888888889 Pa\n",
      "assumed T average is: 43.25 \n",
      "viscosity is: 0.04651870447339634 Pa s \n",
      "Sommerfeld number is: 4.710018827931378\n",
      "deltaT coming from chart 12.24 is : 26.404046353345038\n",
      "T average coming from the chart is: 43.20202317667252\n",
      "\n",
      "\n",
      "your assumption is correct\n",
      "\n",
      "max tempature is: 56.40404635334504\n",
      "\n",
      "eccentricity ratio is 108731.2731383618\n",
      "fr/c and h0 values should be taken from corresponding graphs\n"
     ]
    }
   ],
   "source": [
    "from math import e \n",
    "\n",
    "deltaT = float(input(\"please assume a tempature difference:\"))                     # assumed tempature difference \n",
    "c = float(input(\"please enter the clearance value as meters: \"))\n",
    "\n",
    "\n",
    "D = 0.075                          # meter\n",
    "l = 0.080                          # meter\n",
    "Ti = 30                            # centigrade degrees\n",
    "r = D/2\n",
    "supplyP = 1000*1000                # Pa\n",
    "N = 40                             # rps \n",
    "load = 5000                        # N\n",
    "groove = 0.005                     # m\n",
    "lcorrected = (l - groove)/2   \n",
    "ldratio = lcorrected/D\n",
    "P = load/(4*lcorrected*r)          # Pa\n",
    "rcvalue = r/c\n",
    "\n",
    "          \n",
    "print(\"l/d ratio is:\" , ldratio)\n",
    "print(\"pressure is:\", P , \"Pa\")\n",
    " \n",
    "Tav = Ti + (deltaT/2)                                           # calculating assumed average tempature\n",
    "mu = (0.093704)*(e**(1271.6/(1.8 * Tav + 127)))*10**(-3)        # in Pa s\n",
    "sommerfeld = (rcvalue**2)*mu*N/P                                # calculating the sommerfeld number\n",
    "print(\"assumed T average is:\", Tav,\"\\nviscosity is:\",mu,\"Pa s\",\"\\nSommerfeld number is:\",sommerfeld)\n",
    "findelT = (P*10**(-6))*(0.394552 + 6.392527 * sommerfeld  - 0.036013 * sommerfeld**2)     # using the relation at figure 12.24\n",
    "print(\"deltaT coming from chart 12.24 is :\" , findelT)\n",
    "fintav = Ti + findelT/2                                                            # calculating the final T average value\n",
    "print(\"T average coming from the chart is:\" , fintav)\n",
    "\n",
    "if abs(fintav - Tav < 0.1):                                         # if the difference between them is smaller then 0.1\n",
    "    print(\"\\n\\nyour assumption is correct\")                         # then the program is successful\n",
    "    Tmax = 2 * fintav - Ti\n",
    "    print(\"\\nmax tempature is:\", Tmax)\n",
    "    ecc = e/c\n",
    "    print(\"\\neccentricity ratio is\", ecc)\n",
    "    print(\"fr/c and h0 values should be taken from corresponding graphs\")\n",
    "else:\n",
    "    print(\"restart the program and enter a new value for tempature difference\")\n",
    "    "
   ]
  },
  {
   "cell_type": "code",
   "execution_count": null,
   "id": "132ae211",
   "metadata": {},
   "outputs": [],
   "source": []
  }
 ],
 "metadata": {
  "kernelspec": {
   "display_name": "Python 3 (ipykernel)",
   "language": "python",
   "name": "python3"
  },
  "language_info": {
   "codemirror_mode": {
    "name": "ipython",
    "version": 3
   },
   "file_extension": ".py",
   "mimetype": "text/x-python",
   "name": "python",
   "nbconvert_exporter": "python",
   "pygments_lexer": "ipython3",
   "version": "3.9.7"
  }
 },
 "nbformat": 4,
 "nbformat_minor": 5
}
